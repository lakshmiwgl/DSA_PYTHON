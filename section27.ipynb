{
 "cells": [
  {
   "cell_type": "code",
   "execution_count": null,
   "metadata": {},
   "outputs": [],
   "source": [
    "# section 2 pointers continued\n",
    "'''Coding Exercise: 3 Sum\n",
    "3 Sum\n",
    "\n",
    "Given an integer array nums, return all the triplets [nums[i], nums[j], nums[k]]\n",
    "\n",
    "such that i != j, i != k, and j != k, and nums[i] + nums[j] + nums[k] == 0.\n",
    "\n",
    "Notice that the solution set must not contain duplicate triplets.\n",
    "\n",
    "Example:\n",
    "\n",
    "Input: nums = [-2,0,2,1,-1,-3]\n",
    "\n",
    "Output: [[-2,0,2],[0,1,-1],[2,1,-3]]\n",
    "\n",
    "\n",
    "\n",
    "Input: nums = [-1,2,6,-1,1]\n",
    "\n",
    "Output: [[-1,2,-1]]'''"
   ]
  },
  {
   "cell_type": "code",
   "execution_count": null,
   "metadata": {},
   "outputs": [],
   "source": [
    "# Brute force\n",
    "#think better approach with intution\n",
    "# Sorting\n",
    "#  Pointer movement"
   ]
  },
  {
   "cell_type": "code",
   "execution_count": null,
   "metadata": {},
   "outputs": [],
   "source": []
  }
 ],
 "metadata": {
  "language_info": {
   "name": "python"
  }
 },
 "nbformat": 4,
 "nbformat_minor": 2
}
