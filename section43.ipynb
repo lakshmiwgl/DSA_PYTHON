{
 "cells": [
  {
   "cell_type": "code",
   "execution_count": null,
   "metadata": {},
   "outputs": [],
   "source": [
    "#stacks datastructures\n",
    "# stack lifo\n",
    "#queue  fifo\n",
    "\n"
   ]
  },
  {
   "cell_type": "code",
   "execution_count": null,
   "metadata": {},
   "outputs": [],
   "source": [
    "# stack design a stack using linked list\n",
    "class Node:\n",
    "    def __init__(self,value):\n",
    "        self.value=value\n",
    "        self.next=None\n",
    "class stackedlinkedlist:\n",
    "    def __init__(self):\n",
    "        self.first=None\n",
    "        self.last=None\n",
    "        self.size=0\n",
    "    def addatbeginning(self,value):\n",
    "        node=Node(value)\n",
    "        if not self.first:\n",
    "            self.first=node\n",
    "            self.last=node\n",
    "        else:\n",
    "            temp=node.next\n",
    "            self.first=node\n",
    "            self.first.next=temp\n",
    "        self.size+=1\n",
    "        return self\n",
    "    def  removeatbeginning(self):\n",
    "        if not self.first:\n",
    "            return -1\n",
    "        else:\n",
    "            temp=self.first\n",
    "            self.first=self.first.next\n",
    "        self.size-=1\n",
    "        if self.size==0:\n",
    "            self.last=None\n",
    "        return temp.value\n",
    "    #time complexity o(1)\n",
    "    #space complexity o(1)\n",
    "            \n",
    "        \n",
    "\n",
    "        \n",
    "        \n",
    "        \n",
    "\n",
    "\n"
   ]
  },
  {
   "cell_type": "code",
   "execution_count": null,
   "metadata": {},
   "outputs": [],
   "source": [
    "'''Evaluate the value of an arithmetic expression in Reverse Polish Notation(See example).\n",
    "\n",
    "Valid operators are +, -, *, and /.\n",
    "\n",
    "Note that division between two integers should truncate toward zero. It is guaranteed that the given RPN expression is always valid. That means the expression would always evaluate to a result, and there will not be any division by zero operation. The Input is an array of strings where each element is either a valid operator or an integer. E.g.[“1”,”2”,”+”]'''"
   ]
  },
  {
   "cell_type": "code",
   "execution_count": null,
   "metadata": {},
   "outputs": [],
   "source": [
    "'''A lambda function is a small anonymous function.\n",
    "\n",
    "A lambda function can take any number of arguments, but can only have one expression.'''"
   ]
  },
  {
   "cell_type": "code",
   "execution_count": null,
   "metadata": {},
   "outputs": [],
   "source": [
    "x = lambda a : a + 10\n",
    "print(x(5))\n",
    "x = lambda a, b : a * b\n",
    "print(x(5, 6))\n",
    "x = lambda a, b, c : a + b + c\n",
    "print(x(5, 6, 2))"
   ]
  },
  {
   "cell_type": "code",
   "execution_count": null,
   "metadata": {},
   "outputs": [],
   "source": [
    "# practice lamds\n",
    "x=lambda a : a+10\n",
    "print(x(5))\n",
    "x=lambda a,b: a*b\n"
   ]
  },
  {
   "cell_type": "code",
   "execution_count": null,
   "metadata": {},
   "outputs": [],
   "source": [
    "def rev_pol_not(array):\n",
    "    stack=[]\n",
    "    valid_operators={\n",
    "        '+' : lambda n1,n2:n1+n2,\n",
    "        '-': lambda n1,n2:n1-n2,\n",
    "        '*' : lambda n1,n2:n1*n2,\n",
    "        '/': lambda n1,n2:int(n1/n2)\n",
    "        \n",
    "    }\n",
    "    \n",
    "    for token in array:\n",
    "        if token in valid_operators:\n",
    "            n2=stack.pop()\n",
    "            n1=stack.pop\n",
    "            result=valid_operators[token](n1,n2)\n",
    "            stack.append(result)\n",
    "        else:\n",
    "            stack.append(int(token))\n",
    "    \n",
    "    return stack.pop()"
   ]
  },
  {
   "cell_type": "code",
   "execution_count": null,
   "metadata": {},
   "outputs": [],
   "source": [
    "def res_pop_not(array):\n",
    "    stack=[]\n",
    "    valid_operators={\n",
    "        '+':lambda n1,n2: n1+n2,\n",
    "         '-':lambda n1,n2: n1-n2,\n",
    "          '*':lambda n1,n2: n1*n2,\n",
    "           '/':lambda n1,n2: int(n1/n2)\n",
    "    }\n",
    "    for token in array:\n",
    "        if token in valid_operators:\n",
    "            n2=stack.pop()\n",
    "            n1=stack.pop()\n",
    "            result=valid_operators[token](n1,n2)\n",
    "            stack.append(result)\n",
    "        else:\n",
    "            stack.append(int(token))\n",
    "    return stack.pop()"
   ]
  }
 ],
 "metadata": {
  "language_info": {
   "name": "python"
  }
 },
 "nbformat": 4,
 "nbformat_minor": 2
}
