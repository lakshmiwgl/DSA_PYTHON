{
 "cells": [
  {
   "cell_type": "code",
   "execution_count": null,
   "metadata": {},
   "outputs": [],
   "source": [
    "#Arrays Data structures and Algorithms\n",
    "#Data structures are collection of data values , relationships among them\n",
    "#functions/operations that can be applied on them"
   ]
  },
  {
   "cell_type": "code",
   "execution_count": null,
   "metadata": {},
   "outputs": [],
   "source": [
    "#input----Algorithm----output"
   ]
  },
  {
   "cell_type": "code",
   "execution_count": 40,
   "metadata": {},
   "outputs": [
    {
     "data": {
      "text/plain": [
       "'You are given an array of Integers in which each \\nsubsequent value is not less than the previous value. \\nWrite a function that takes this array as an input and \\nreturns a new array with the squares of each number\\nsorted in ascending order.'"
      ]
     },
     "execution_count": 40,
     "metadata": {},
     "output_type": "execute_result"
    }
   ],
   "source": [
    "'''You are given an array of Integers in which each \n",
    "subsequent value is not less than the previous value. \n",
    "Write a function that takes this array as an input and \n",
    "returns a new array with the squares of each number\n",
    "sorted in ascending order.'''"
   ]
  },
  {
   "cell_type": "code",
   "execution_count": 41,
   "metadata": {},
   "outputs": [],
   "source": [
    "#Assumptions if negative numbers are there ,\n",
    "#empty array\n",
    "# Time comlexity is O(logn) and space comlexity is O(n)\n",
    "x=[-2,-3,0,1,2,3]\n",
    "# brute force method\n",
    "def sort_sqaures(array):\n",
    "    n=len(array)\n",
    "    res=[0]*n\n",
    "    for i in range(n):\n",
    "        res[i]=array[i]**2\n",
    "    res.sort()\n",
    "    return res\n",
    "    \n",
    "    \n",
    "    \n",
    "    \n",
    "\n"
   ]
  },
  {
   "cell_type": "code",
   "execution_count": 43,
   "metadata": {},
   "outputs": [
    {
     "data": {
      "text/plain": [
       "[4, 9, 16, 25, 36]"
      ]
     },
     "execution_count": 43,
     "metadata": {},
     "output_type": "execute_result"
    }
   ],
   "source": [
    "array=[-3,-2,4,5,6]\n",
    "sort_sqaures(array)"
   ]
  },
  {
   "cell_type": "code",
   "execution_count": 69,
   "metadata": {},
   "outputs": [],
   "source": [
    "#S,T=O(n)\n",
    "def sort_3(array):\n",
    "    n=len(array)\n",
    "    sort_res=[0]*n\n",
    "    x=0\n",
    "    y=n-1\n",
    "    while  x<=y:\n",
    "          sq1=array[x]**2\n",
    "          sq2=array[y]**2\n",
    "          \n",
    "          if sq2>=sq1:\n",
    "            print(sq2)\n",
    "            sort_res[y-x]=sq2\n",
    "            print(\"if---\",sort_res)\n",
    "            y=y-1\n",
    "          else:\n",
    "            sort_res[y-x]=sq1\n",
    "            print(sq1)\n",
    "            print(\"else----\",sort_res)\n",
    "\n",
    "            x=x+1\n",
    "    return sort_res\n",
    "                    \n",
    "    \n",
    "        \n",
    "    "
   ]
  },
  {
   "cell_type": "code",
   "execution_count": 70,
   "metadata": {},
   "outputs": [
    {
     "name": "stdout",
     "output_type": "stream",
     "text": [
      "36\n",
      "if--- [0, 0, 0, 0, 36]\n",
      "25\n",
      "if--- [0, 0, 0, 25, 36]\n",
      "16\n",
      "if--- [0, 0, 16, 25, 36]\n",
      "9\n",
      "else---- [0, 9, 16, 25, 36]\n",
      "4\n",
      "if--- [4, 9, 16, 25, 36]\n"
     ]
    },
    {
     "data": {
      "text/plain": [
       "[4, 9, 16, 25, 36]"
      ]
     },
     "execution_count": 70,
     "metadata": {},
     "output_type": "execute_result"
    }
   ],
   "source": [
    "array=[-3,-2,4,5,6]\n",
    "\n",
    "sort_3(array)"
   ]
  },
  {
   "cell_type": "code",
   "execution_count": 71,
   "metadata": {},
   "outputs": [
    {
     "name": "stdout",
     "output_type": "stream",
     "text": [
      "256\n",
      "if--- [0, 0, 0, 0, 0, 0, 256]\n",
      "16\n",
      "if--- [0, 0, 0, 0, 0, 16, 256]\n",
      "9\n",
      "else---- [0, 0, 0, 0, 9, 16, 256]\n",
      "4\n",
      "if--- [0, 0, 0, 4, 9, 16, 256]\n",
      "4\n",
      "else---- [0, 0, 4, 4, 9, 16, 256]\n",
      "1\n",
      "if--- [0, 1, 4, 4, 9, 16, 256]\n",
      "0\n",
      "if--- [0, 1, 4, 4, 9, 16, 256]\n"
     ]
    },
    {
     "data": {
      "text/plain": [
       "[0, 1, 4, 4, 9, 16, 256]"
      ]
     },
     "execution_count": 71,
     "metadata": {},
     "output_type": "execute_result"
    }
   ],
   "source": [
    "array=[-3,-2,0,1,2,4,16]\n",
    "sort_3(array)"
   ]
  },
  {
   "cell_type": "code",
   "execution_count": 81,
   "metadata": {},
   "outputs": [],
   "source": [
    "#S,T=O(n)\n",
    "\n",
    "def sort_4(array):\n",
    "    n=len(array)\n",
    "    sort_res=[0]*n\n",
    "    x=0\n",
    "    y=n-1\n",
    "    for k in reversed(range(n)):\n",
    "        sq1=array[x]**2\n",
    "        sq2=array[y]**2\n",
    "        if sq2>sq1:\n",
    "            sort_res[k]=sq2\n",
    "            y=y-1\n",
    "        else:\n",
    "            sort_res[k]=sq1\n",
    "            x=x+1\n",
    "\n",
    "    return sort_res\n",
    "                    "
   ]
  },
  {
   "cell_type": "code",
   "execution_count": 82,
   "metadata": {},
   "outputs": [
    {
     "data": {
      "text/plain": [
       "[0, 1, 4, 4, 9, 16, 256]"
      ]
     },
     "execution_count": 82,
     "metadata": {},
     "output_type": "execute_result"
    }
   ],
   "source": [
    "array=[-3,-2,0,1,2,4,16]\n",
    "\n",
    "sort_4(array)"
   ]
  },
  {
   "cell_type": "code",
   "execution_count": null,
   "metadata": {},
   "outputs": [],
   "source": [
    "'''\n",
    "#An array is monotonic if it is either monotone increasing or monotone decreasing.\n",
    "# An array is monotone increasing if all its elements from left to right are non-decreasing. \n",
    "# An array is monotone decreasing if all  its elements from left to right are non-increasing. \n",
    "# Given an integer array return true if the given array is monotonic, or false otherwise. '''"
   ]
  },
  {
   "cell_type": "code",
   "execution_count": 104,
   "metadata": {},
   "outputs": [],
   "source": [
    "#T=O(N) , S =O(1)\n",
    "def mon(array):\n",
    "    n=len(array)\n",
    "    if len(array)==1:\n",
    "        return True\n",
    "    if array[0]<array[n-1]:\n",
    "        for i in range(n-1):\n",
    "            if array[i]>array[i+1]:\n",
    "                return False\n",
    "    else:\n",
    "        for i in range(n-1):\n",
    "            if array[i+1]>array[i]:\n",
    "                return False\n",
    "    return True\n",
    "        \n",
    "    \n",
    "    "
   ]
  },
  {
   "cell_type": "code",
   "execution_count": 109,
   "metadata": {},
   "outputs": [
    {
     "data": {
      "text/plain": [
       "False"
      ]
     },
     "execution_count": 109,
     "metadata": {},
     "output_type": "execute_result"
    }
   ],
   "source": [
    "arr1=[-3,-2,0,1,1,2]\n",
    "arr2=[4,3,2,0,-1,0]\n",
    "arr3=[4,4,5,5,6]\n",
    "arr4=[3,2,3]\n",
    "\n",
    "mon(arr4)"
   ]
  },
  {
   "cell_type": "code",
   "execution_count": null,
   "metadata": {},
   "outputs": [],
   "source": []
  }
 ],
 "metadata": {
  "kernelspec": {
   "display_name": "Python 3",
   "language": "python",
   "name": "python3"
  },
  "language_info": {
   "codemirror_mode": {
    "name": "ipython",
    "version": 3
   },
   "file_extension": ".py",
   "mimetype": "text/x-python",
   "name": "python",
   "nbconvert_exporter": "python",
   "pygments_lexer": "ipython3",
   "version": "3.11.6"
  }
 },
 "nbformat": 4,
 "nbformat_minor": 2
}
