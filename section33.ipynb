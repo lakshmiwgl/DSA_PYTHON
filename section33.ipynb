{
 "cells": [
  {
   "cell_type": "code",
   "execution_count": null,
   "metadata": {},
   "outputs": [],
   "source": [
    "# Searching Algorithms\n",
    "'''Given an array of integers which is sorted in ascending order,\n",
    "and a target integer , write a function to search for whether the target integer is there in given \n",
    "array. If it is there return index. Otherwise return -1. you must \n",
    "write an algorithm with 0(log n ) run time complexity\n",
    "'''"
   ]
  },
  {
   "cell_type": "code",
   "execution_count": null,
   "metadata": {},
   "outputs": [],
   "source": [
    "#linear search is o(n) time complexity\n",
    "#binary search is o(logn) time comlexity\n",
    "#built in function such as indexof is doing linear search under the hood \n",
    "#Binary search Algorithm is divide and conquer algorithm\n",
    "#for binary search data has to be sorted \n",
    "  #integers ---> ascending / descending\n",
    "  #string  -----> alphabetical order etc"
   ]
  },
  {
   "cell_type": "code",
   "execution_count": null,
   "metadata": {},
   "outputs": [],
   "source": []
  },
  {
   "cell_type": "code",
   "execution_count": 30,
   "metadata": {},
   "outputs": [],
   "source": [
    "#binary search algorithm  iterative\n",
    "#space complexity O(logn)\n",
    "#time complexity O(1)\n",
    "def binary_search_iter(array,target):\n",
    "    left=0\n",
    "    right=len(array)-1\n",
    "    while left<=right:\n",
    "        mid=(left+right)//2\n",
    "        if array[mid]==target:\n",
    "            return mid\n",
    "        elif target < array[mid]:\n",
    "             right=mid-1\n",
    "        else:\n",
    "            left=mid+1\n",
    "    return -1        \n",
    "        "
   ]
  },
  {
   "cell_type": "code",
   "execution_count": 31,
   "metadata": {},
   "outputs": [
    {
     "data": {
      "text/plain": [
       "3"
      ]
     },
     "execution_count": 31,
     "metadata": {},
     "output_type": "execute_result"
    }
   ],
   "source": [
    "array=[1,2,3,4,5,6,7,8]\n",
    "target=4\n",
    "binary_search_iter(array,target)"
   ]
  },
  {
   "cell_type": "code",
   "execution_count": 32,
   "metadata": {},
   "outputs": [],
   "source": [
    "# Binary search using recursion\n",
    "#time complexity O(logn)\n",
    "#space coplexity  O(logn)\n",
    "def binary_search_recursion(array,target):\n",
    "    def helper(array,target,left,right):\n",
    "        if left>right:\n",
    "            return -1\n",
    "        middle=(left+right)//2\n",
    "        if array[middle]==target:\n",
    "            return middle\n",
    "        elif target<array[middle]:\n",
    "            right=middle-1\n",
    "            return helper(array,target,left,right)\n",
    "        else:\n",
    "            left=middle+1\n",
    "            return helper(array,target,left,right)\n",
    "\n",
    "            \n",
    "    return  helper(array,target,0,len(array)-1)\n",
    "            \n",
    "            \n",
    "        "
   ]
  },
  {
   "cell_type": "code",
   "execution_count": 33,
   "metadata": {},
   "outputs": [
    {
     "data": {
      "text/plain": [
       "3"
      ]
     },
     "execution_count": 33,
     "metadata": {},
     "output_type": "execute_result"
    }
   ],
   "source": [
    "array=[1,2,3,4,5,6,7,8]\n",
    "target=4\n",
    "binary_search_recursion(array,target)"
   ]
  },
  {
   "cell_type": "code",
   "execution_count": null,
   "metadata": {},
   "outputs": [],
   "source": [
    "\"\"\"There is an integer array nums sorted in ascending order (with distinct values).\n",
    "\n",
    "Prior to being passed to your function, nums is possibly rotated at an unknown pivot index k (1 <= k < nums.length) such that the resulting array is [nums[k], nums[k+1], ..., nums[n-1], nums[0], nums[1], ..., nums[k-1]] (0-indexed). For example, [0,1,2,4,5,6,7] might be rotated at pivot index 3 and become [4,5,6,7,0,1,2].\n",
    "\n",
    "Given the array nums after the possible rotation and an integer target, return the index of target if it is in nums, or -1 if it is not in nums.\n",
    "\n",
    "You must write an algorithm with O(log n) runtime complexity.\n",
    "\n",
    " \n",
    "\n",
    "Example 1:\n",
    "\n",
    "Input: nums = [4,5,6,7,0,1,2], target = 0\n",
    "Output: 4\n",
    "Example 2:\n",
    "\n",
    "Input: nums = [4,5,6,7,0,1,2], target = 3\n",
    "Output: -1\n",
    "Example 3:\n",
    "\n",
    "Input: nums = [1], target = 0\n",
    "Output: -1\n",
    " \n",
    "\n",
    "Constraints:\n",
    "\n",
    "1 <= nums.length <= 5000\n",
    "-104 <= nums[i] <= 104\n",
    "All values of nums are unique.\n",
    "nums is an ascending array that is possibly rotated.\n",
    "-104 <= target <= 104\"\"\""
   ]
  }
 ],
 "metadata": {
  "kernelspec": {
   "display_name": "Python 3",
   "language": "python",
   "name": "python3"
  },
  "language_info": {
   "codemirror_mode": {
    "name": "ipython",
    "version": 3
   },
   "file_extension": ".py",
   "mimetype": "text/x-python",
   "name": "python",
   "nbconvert_exporter": "python",
   "pygments_lexer": "ipython3",
   "version": "3.11.6"
  }
 },
 "nbformat": 4,
 "nbformat_minor": 2
}
