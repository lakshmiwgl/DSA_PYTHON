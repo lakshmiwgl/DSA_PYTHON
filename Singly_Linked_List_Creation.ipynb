{
 "cells": [
  {
   "cell_type": "code",
   "execution_count": 1,
   "metadata": {},
   "outputs": [],
   "source": [
    "#linked list\n",
    "#design a singly linked list"
   ]
  },
  {
   "cell_type": "code",
   "execution_count": null,
   "metadata": {},
   "outputs": [],
   "source": [
    "class Node:\n",
    "    def __init__(self,value):\n",
    "        self.value=value\n",
    "        self.next=None\n",
    "    \n",
    "class SniglyLinkedList:\n",
    "      def __init__(self):\n",
    "          self.head=None\n",
    "          self.tail=None\n",
    "          self.size=0\n",
    "      # for get time complexirty is 0(n) ans S(1)\n",
    "      def get(self,index):\n",
    "          if index < 0 or index >=self.size:\n",
    "              return -1\n",
    "          counter=0\n",
    "          current=self.head\n",
    "          while counter!=index:\n",
    "                current=current.next\n",
    "                counter=counter+1\n",
    "          return current\n",
    "      \n",
    "      # adding at head 0(1),0(1)\n",
    "      def addatHead(self,value):\n",
    "          \n",
    "          "
   ]
  },
  {
   "cell_type": "code",
   "execution_count": null,
   "metadata": {},
   "outputs": [],
   "source": [
    "class Node:\n",
    "    def __init__(self,value):\n",
    "        self.value=value\n",
    "        self.next=None\n",
    "class SinglyLinkedList:\n",
    "    def __init__(self):\n",
    "        self.head=None\n",
    "        self.tail=None\n",
    "        self.size=0\n",
    "    def get(self,index):\n",
    "        #node=Node(inde)\n",
    "        if index<=0 or index>=self.size:\n",
    "            return -1\n",
    "        counter=0\n",
    "        current=self.head\n",
    "        while counter!=index:\n",
    "            current=current.next\n",
    "            counter=counter+1\n",
    "        return current\n",
    "    def addathead(self,value):\n",
    "       node=Node(value)\n",
    "       if not self.head:\n",
    "           self.head=node\n",
    "           self.tail=node\n",
    "       else:\n",
    "           node.next=self.head\n",
    "           self.head=node\n",
    "       self.size+=1  \n",
    "    \n",
    "    def addatTail(self,value):\n",
    "        node=Node(value) \n",
    "        if not self.head:\n",
    "            self.head=node\n",
    "            self.tail=node\n",
    "        else:\n",
    "            self.tail.next=node\n",
    "            self.tail=node\n",
    "        self.size+=1\n",
    "        \n",
    "    def addatindex(self,index,value):\n",
    "        if index < 0 or index>=self.size:\n",
    "            return \"invald index\"\n",
    "        if index==self.size:\n",
    "            return self.addatTail(value)\n",
    "        if index==0:\n",
    "            return self.addathead(value)\n",
    "        node=Node(value)\n",
    "        prev=self.get(index-1)\n",
    "        temp=prev.next\n",
    "        prev.next=node\n",
    "        node.next=temp\n",
    "        self.size+=1\n",
    "    \n",
    "    def deleteatIndex(self,index):\n",
    "         if index < 0 or index>=self.size:\n",
    "            return \"invald index\"\n",
    "         if index==0:\n",
    "             temp=self.head\n",
    "             self.head=temp.next\n",
    "             self.size-=1\n",
    "             if self.size==0:\n",
    "                 self.tail=None\n",
    "             return temp.value\n",
    "         if index==self.size-1:\n",
    "             old_tail=self.tail\n",
    "             new_tail=self.get(index-1)\n",
    "             self.tail=new_tail\n",
    "             new_tail.next=None\n",
    "             self.size-=1\n",
    "             return old_tail.value\n",
    "         prev=self.get(index-1)\n",
    "         deleted_node=prev.next\n",
    "         prev.next=deleted_node.next\n",
    "         self.size-=1\n",
    "         return deleted_node.value\n",
    "             \n",
    "         \n",
    "         \n",
    "             \n",
    "        \n",
    "        \n",
    "        \n",
    "        \n",
    "        \n",
    "        \n",
    "        \n",
    "          "
   ]
  },
  {
   "cell_type": "code",
   "execution_count": 20,
   "metadata": {},
   "outputs": [],
   "source": [
    "# removing duplicates from sorted  linked list\n",
    "class Node:\n",
    "    def __init__(self,value):\n",
    "        self.value=value\n",
    "        self.next=None\n",
    "head = Node(1)\n",
    "head.next = Node(2)\n",
    "head.next.next = Node(2)\n",
    "head.next.next.next = Node(3)\n",
    "head.next.next.next.next = Node('a')\n",
    "head.next.next.next.next.next = Node('a')"
   ]
  },
  {
   "cell_type": "code",
   "execution_count": 21,
   "metadata": {},
   "outputs": [],
   "source": [
    "def removeDupes(head):\n",
    "    curr=head\n",
    "    while curr:\n",
    "        nextDistinctVal=curr.next\n",
    "        while nextDistinctVal is not None and curr.value==nextDistinctVal.value:\n",
    "             nextDistinctVal=nextDistinctVal.next\n",
    "        curr.next=nextDistinctVal\n",
    "        curr=nextDistinctVal\n",
    "    return head         \n",
    "             "
   ]
  },
  {
   "cell_type": "code",
   "execution_count": 24,
   "metadata": {},
   "outputs": [
    {
     "data": {
      "text/plain": [
       "<__main__.Node at 0x10910e950>"
      ]
     },
     "execution_count": 24,
     "metadata": {},
     "output_type": "execute_result"
    }
   ],
   "source": [
    "def removeDupes(head):\n",
    "    # Time Complexity Explanation: \n",
    "    # The function contains a while loop that traverses the linked list once, so the time complexity is O(n) \n",
    "    # where n is the number of nodes in the linked list.\n",
    "    \n",
    "    curr = head\n",
    "    while curr:\n",
    "        nextDistinctVal = curr.next\n",
    "        while nextDistinctVal is not None and curr.value == nextDistinctVal.value:\n",
    "            nextDistinctVal = nextDistinctVal.next\n",
    "        curr.next = nextDistinctVal\n",
    "        curr = nextDistinctVal\n",
    "    return head\n",
    "# Time complexity of this function is O(n), where n is the number of nodes in the list\n",
    " \n",
    "removeDupes(head)"
   ]
  },
  {
   "cell_type": "code",
   "execution_count": 25,
   "metadata": {},
   "outputs": [
    {
     "data": {
      "text/plain": [
       "3"
      ]
     },
     "execution_count": 25,
     "metadata": {},
     "output_type": "execute_result"
    }
   ],
   "source": [
    "head.next.next.value"
   ]
  },
  {
   "cell_type": "code",
   "execution_count": null,
   "metadata": {},
   "outputs": [],
   "source": []
  },
  {
   "cell_type": "code",
   "execution_count": null,
   "metadata": {},
   "outputs": [],
   "source": [
    "1>2>3>4>null"
   ]
  },
  {
   "cell_type": "code",
   "execution_count": null,
   "metadata": {},
   "outputs": [],
   "source": [
    "4>3>2>1>null"
   ]
  },
  {
   "cell_type": "code",
   "execution_count": null,
   "metadata": {},
   "outputs": [],
   "source": [
    "#reverse the sll\n",
    "class Node:\n",
    "    def __init__(self,value):\n",
    "        self.value=value\n",
    "        self.next=None\n",
    "    # Creating the list\n",
    "head = Node(1)\n",
    "head.next = Node(2)\n",
    "head.next.next = Node(3)\n",
    "head.next.next.next = Node(4)\n",
    "\n",
    "def reverse(head):\n",
    "    prev=None\n",
    "    curr=head\n",
    "    while curr:\n",
    "        next=curr.next\n",
    "        curr.next=prev\n",
    "        prev=curr\n",
    "        curr=next\n",
    "    return prev\n",
    "        \n",
    "        \n",
    "\n",
    " "
   ]
  },
  {
   "cell_type": "code",
   "execution_count": null,
   "metadata": {},
   "outputs": [],
   "source": [
    "#cycle detection in linked list\n",
    "#there are two methods brute foce method and the other is floyd's tortoise and hare algorithm"
   ]
  },
  {
   "cell_type": "code",
   "execution_count": 28,
   "metadata": {},
   "outputs": [],
   "source": [
    "for i in range(40,61):\n",
    "    with open(\"section\"+str(i)+\".ipynb\",\"w\") as fp:\n",
    "        pass\n",
    "    "
   ]
  },
  {
   "cell_type": "code",
   "execution_count": null,
   "metadata": {},
   "outputs": [],
   "source": []
  }
 ],
 "metadata": {
  "kernelspec": {
   "display_name": "Python 3",
   "language": "python",
   "name": "python3"
  },
  "language_info": {
   "codemirror_mode": {
    "name": "ipython",
    "version": 3
   },
   "file_extension": ".py",
   "mimetype": "text/x-python",
   "name": "python",
   "nbconvert_exporter": "python",
   "pygments_lexer": "ipython3",
   "version": "3.11.6"
  }
 },
 "nbformat": 4,
 "nbformat_minor": 2
}
