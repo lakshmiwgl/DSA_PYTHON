{
 "cells": [
  {
   "cell_type": "code",
   "execution_count": null,
   "metadata": {},
   "outputs": [],
   "source": [
    "#Question pattern 2 Pointers\n",
    "# To efficiently travserse array,linked list or any other linear data structures\n",
    "#we can reduce time complexity from brute forece o(n**2) to o(n)\n",
    "#based on the question we will decide specific crieteria to move the pointers\n"
   ]
  },
  {
   "cell_type": "code",
   "execution_count": null,
   "metadata": {},
   "outputs": [],
   "source": [
    "'''Coding Exercise: Best Time to Buy and Sell Stock\n",
    "You are given an array prices where prices[i] is the price of a given stock on the ith day.\n",
    "\n",
    "You want to maximize your profit by choosing a single day to buy one stock and choosing a different day in the future to sell that stock.\n",
    "\n",
    "Return the maximum profit you can achieve from this transaction. If you cannot achieve any profit, return 0.\n",
    "\n",
    "\n",
    "\n",
    "Example:\n",
    "\n",
    "Input: prices = [9,1,5,3,7,5]\n",
    "\n",
    "Output: 6'''"
   ]
  },
  {
   "cell_type": "code",
   "execution_count": 13,
   "metadata": {},
   "outputs": [],
   "source": [
    "# assumptions you cannot sell befor you buy\n",
    "def maxpprofit(array):\n",
    "    n=len(array)\n",
    "    result=array[1]-array[0]\n",
    "    for i in range(n):\n",
    "        for j in range(i+1,n):\n",
    "            max=array[j]-array[i]\n",
    "            if max >= result:\n",
    "                result=max\n",
    "    if result <0:\n",
    "        return 0\n",
    "    return result\n",
    "            \n",
    "    "
   ]
  },
  {
   "cell_type": "code",
   "execution_count": 14,
   "metadata": {},
   "outputs": [
    {
     "data": {
      "text/plain": [
       "6"
      ]
     },
     "execution_count": 14,
     "metadata": {},
     "output_type": "execute_result"
    }
   ],
   "source": [
    "array=[9,1,5,3,7,5]\n",
    "maxpprofit(array)"
   ]
  },
  {
   "cell_type": "code",
   "execution_count": null,
   "metadata": {},
   "outputs": [],
   "source": [
    "# we can solve this by using the 2 p[ointers method right pointer and left pointer\n",
    "#move the left when r is less than left\n"
   ]
  },
  {
   "cell_type": "code",
   "execution_count": 15,
   "metadata": {},
   "outputs": [],
   "source": [
    "def maxprofit(prices):\n",
    "    left=0\n",
    "    profit=0\n",
    "    n=len(prices)\n",
    "    for right in range(1,n):\n",
    "        if prices[left] > prices[right]:\n",
    "            left=right\n",
    "        else:\n",
    "            profit=max(profit,prices[right]-prices[left])\n",
    "    return profit\n",
    "    "
   ]
  },
  {
   "cell_type": "code",
   "execution_count": 16,
   "metadata": {},
   "outputs": [
    {
     "data": {
      "text/plain": [
       "6"
      ]
     },
     "execution_count": 16,
     "metadata": {},
     "output_type": "execute_result"
    }
   ],
   "source": [
    "maxprofit(array)"
   ]
  },
  {
   "cell_type": "code",
   "execution_count": 17,
   "metadata": {},
   "outputs": [
    {
     "data": {
      "text/plain": [
       "'Coding Exercise: Two Sum 2\\nTwo Sum II\\n\\nGiven a 1-indexed array of integer numbers that is already sorted in non-decreasing order, find two numbers such that they add up to a specific target number.\\n\\nReturn the indices of the two numbers, index1 and index2, array [index1, index2] of length 2.\\n\\nIt is guaranteed that there is exactly one solution. You may not use the same element twice.\\n\\nYour solution must use only constant extra space.\\n\\n\\n\\nExample: Input: numbers = [1,3,4], target = 5; Output: [1,3]'"
      ]
     },
     "execution_count": 17,
     "metadata": {},
     "output_type": "execute_result"
    }
   ],
   "source": [
    "# 1 indexed array means the index starts from 1\n",
    "\n",
    "'''Coding Exercise: Two Sum 2\n",
    "Two Sum II\n",
    "\n",
    "Given a 1-indexed array of integer numbers that is already sorted in non-decreasing order, find two numbers such that they add up to a specific target number.\n",
    "\n",
    "Return the indices of the two numbers, index1 and index2, array [index1, index2] of length 2.\n",
    "\n",
    "It is guaranteed that there is exactly one solution. You may not use the same element twice.\n",
    "\n",
    "Your solution must use only constant extra space.\n",
    "\n",
    "\n",
    "\n",
    "Example: Input: numbers = [1,3,4], target = 5; Output: [1,3]'''"
   ]
  },
  {
   "cell_type": "code",
   "execution_count": 24,
   "metadata": {},
   "outputs": [],
   "source": [
    "def  getindex(array,target):\n",
    "     dict1={}\n",
    "     n=len(array)\n",
    "     for i in range(n):\n",
    "         diff=target-array[i]\n",
    "         if diff in dict1:\n",
    "             return [dict1[diff],i+1]\n",
    "         else :\n",
    "             dict1[array[i]]=i+1\n",
    "     return 0\n"
   ]
  },
  {
   "cell_type": "code",
   "execution_count": 26,
   "metadata": {},
   "outputs": [
    {
     "data": {
      "text/plain": [
       "0"
      ]
     },
     "execution_count": 26,
     "metadata": {},
     "output_type": "execute_result"
    }
   ],
   "source": [
    "getindex([1,2,5,7,9,11,14],5)"
   ]
  },
  {
   "cell_type": "code",
   "execution_count": 49,
   "metadata": {},
   "outputs": [],
   "source": [
    "# using 2 pointer method\n",
    "#T=O(n)\n",
    "#S=O(1)\n",
    "def twosum(numbers,target):\n",
    "    left=0\n",
    "    n=len(numbers)\n",
    "    right=n-1\n",
    "    while left < right:\n",
    "        sum2=numbers[left]+numbers[right]\n",
    "        if target==sum2:\n",
    "            return [left+1,right+1]\n",
    "        elif sum2 > target:\n",
    "             #print(\"r--\",right)\n",
    "             right=right-1\n",
    "        else:\n",
    "            #print(\"left\",left)\n",
    "            left=left+1\n",
    "    #return 0\n",
    "    \n",
    "    \n"
   ]
  },
  {
   "cell_type": "code",
   "execution_count": 50,
   "metadata": {},
   "outputs": [
    {
     "data": {
      "text/plain": [
       "[2, 3]"
      ]
     },
     "execution_count": 50,
     "metadata": {},
     "output_type": "execute_result"
    }
   ],
   "source": [
    "twosum([5,25,75],100)"
   ]
  },
  {
   "cell_type": "code",
   "execution_count": null,
   "metadata": {},
   "outputs": [],
   "source": []
  }
 ],
 "metadata": {
  "kernelspec": {
   "display_name": "Python 3",
   "language": "python",
   "name": "python3"
  },
  "language_info": {
   "codemirror_mode": {
    "name": "ipython",
    "version": 3
   },
   "file_extension": ".py",
   "mimetype": "text/x-python",
   "name": "python",
   "nbconvert_exporter": "python",
   "pygments_lexer": "ipython3",
   "version": "3.11.6"
  }
 },
 "nbformat": 4,
 "nbformat_minor": 2
}
