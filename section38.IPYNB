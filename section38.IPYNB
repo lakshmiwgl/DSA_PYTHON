{
 "cells": [
  {
   "cell_type": "code",
   "execution_count": null,
   "metadata": {},
   "outputs": [],
   "source": [
    "#Merge intervals\n",
    "#To solve the merge intervals requires understanding and manipulating intervals\n",
    "#important beacusse to demonstarte understanding about sorting algorithms and how to apply them\n",
    "#Tricky edge cases to handle\n",
    "#intervals touch each other\n",
    "#intervals entirely overlapping within one another\n"
   ]
  },
  {
   "cell_type": "code",
   "execution_count": null,
   "metadata": {},
   "outputs": [],
   "source": [
    "'''Merge Intervals\n",
    "Merge Intervals\n",
    "\n",
    "Given an array of intervals where intervals[i] = [starti, endi], merge all overlapping intervals, and return an array of the non-overlapping intervals that cover all the intervals in the input.\n",
    "\n",
    "Example:\n",
    "\n",
    "Input: intervals = [[2,5],[3,6],[9,11],[20,21]]\n",
    "\n",
    "Output: [[2,6],[9,11],[20,21]]\n",
    "\n",
    "\n",
    "\n",
    "Input: intervals = [[1,3],[3,9],[10,11]]\n",
    "\n",
    "Output: [[1,9],[10,11]]'''"
   ]
  },
  {
   "cell_type": "code",
   "execution_count": null,
   "metadata": {},
   "outputs": [],
   "source": [
    "#https://www.w3schools.com/python/python_lambda.asp"
   ]
  },
  {
   "cell_type": "code",
   "execution_count": null,
   "metadata": {},
   "outputs": [],
   "source": [
    "array=[[2,5],[3,6],[9,11],[20,21]]\n",
    "out=[[2,6],[9,11],[20,21]]"
   ]
  },
  {
   "cell_type": "code",
   "execution_count": null,
   "metadata": {},
   "outputs": [],
   "source": [
    "n=len(array)\n",
    "for i in range(n):\n",
    "    if array[i][-1] >= array[i+1][0]:\n",
    "        array[i][-1]=max(array[i][-1],array[i+1][1])\n",
    "        \n"
   ]
  },
  {
   "cell_type": "code",
   "execution_count": null,
   "metadata": {},
   "outputs": [],
   "source": []
  }
 ],
 "metadata": {
  "language_info": {
   "name": "python"
  }
 },
 "nbformat": 4,
 "nbformat_minor": 2
}
