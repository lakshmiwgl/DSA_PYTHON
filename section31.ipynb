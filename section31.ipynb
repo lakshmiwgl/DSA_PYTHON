{
 "cells": [
  {
   "cell_type": "code",
   "execution_count": null,
   "metadata": {},
   "outputs": [],
   "source": [
    "#Strings_Data_structures_and_algorithms\n",
    "#STRINGS ARE SIMILAR TO DATA structures in that we can manipulate them\n",
    "#data type like boolean , numbers etc\n",
    "#strings are stored as array of  integers\n",
    "#Big o common  operations\n",
    "# 1. read the character at given index  ----T,S=O(1)\n",
    "# 2.Traverse ----- T,S=O(n),O(1)\n",
    "# 3.Copy --------  T,S=O(n)\n",
    "# 4.Append --------T=O(n)\n",
    "# 5.Concateate -----T,S=O(n+m)\n",
    "# https://www.geeksforgeeks.org/why-are-python-strings-immutable/\n"
   ]
  },
  {
   "cell_type": "code",
   "execution_count": 3,
   "metadata": {},
   "outputs": [],
   "source": [
    "# name_1=\"dhana\"\n",
    "# name_1[0]=\"y\"\n",
    "#strings are immutable  which means they cannot be changes once they are created \n",
    "#some other immutable data types are integers, float,boolean, etc\n",
    "#lists are mutable these can be modified after their creation\n",
    "# my_list = [1, 2, 3]\n",
    "# print(\"Valid operation, modifying the first element of the list\")\n",
    "# my_list[0] = 10\n",
    "\n",
    "# Ways to Deal with Immutability\n",
    "# String Slicing and Reassembling\n",
    "# String Concatenation\n",
    "# Using the join() method\n",
    "# Using String Formatting\n",
    "# Converting to Mutable Data Structures\n"
   ]
  },
  {
   "cell_type": "code",
   "execution_count": 4,
   "metadata": {},
   "outputs": [
    {
     "data": {
      "text/plain": [
       "'Given a string s, find the first non-repeating character in it and return its index. If it does not exist, return -1.\\n\\n \\n\\nExample 1:\\n\\nInput: s = \"leetcode\"\\n\\nOutput: 0\\n\\nExplanation:\\n\\nThe character \\'l\\' at index 0 is the first character that does not occur at any other index.\\n\\nExample 2:\\n\\nInput: s = \"loveleetcode\"\\n\\nOutput: 2\\n\\nExample 3:\\n\\nInput: s = \"aabb\"\\n\\nOutput: -1\\n\\n \\n\\nConstraints:\\n\\n1 <= s.length <= 105\\ns consists of only lowercase English letters.'"
      ]
     },
     "execution_count": 4,
     "metadata": {},
     "output_type": "execute_result"
    }
   ],
   "source": [
    "#Coding question\n",
    "'''Given a string s, find the first non-repeating character in it and return its index. If it does not exist, return -1.\n",
    "\n",
    " \n",
    "\n",
    "Example 1:\n",
    "\n",
    "Input: s = \"leetcode\"\n",
    "\n",
    "Output: 0\n",
    "\n",
    "Explanation:\n",
    "\n",
    "The character 'l' at index 0 is the first character that does not occur at any other index.\n",
    "\n",
    "Example 2:\n",
    "\n",
    "Input: s = \"loveleetcode\"\n",
    "\n",
    "Output: 2\n",
    "\n",
    "Example 3:\n",
    "\n",
    "Input: s = \"aabb\"\n",
    "\n",
    "Output: -1\n",
    "\n",
    " \n",
    "\n",
    "Constraints:\n",
    "\n",
    "1 <= s.length <= 105\n",
    "s consists of only lowercase English letters.'''\n",
    "\n",
    "\n",
    "\n",
    "\n"
   ]
  },
  {
   "cell_type": "code",
   "execution_count": null,
   "metadata": {},
   "outputs": [],
   "source": [
    "\"\"\"Question:\n",
    "\n",
    "Non repeating character - You are given a string consisting of only lower case and upper-case English Alphabets and integers 0 to 9. Write a function that will take this string as Input and return the index of the first character that is non-repeating.\n",
    "\n",
    "\n",
    "\n",
    "Try to optimise your solution:\n",
    "\n",
    "Brute Force method : \n",
    "T=O(n^2), S=O(1)\n",
    "\n",
    "\n",
    "\n",
    "Optimal Solution:\n",
    "T=O(n), S=O(1)\"\"\""
   ]
  },
  {
   "cell_type": "code",
   "execution_count": 31,
   "metadata": {},
   "outputs": [],
   "source": [
    "#Aabc1Acbd   --a is not reporting  so index is 1\n",
    "\n",
    "#brute force method\n",
    "#time comlexity is 0(n**2)\n",
    "#space comlexity is O(1)\n",
    "def non_repeating_char(str):\n",
    "    n=len(str)\n",
    "\n",
    "    for i in range(n):\n",
    "        repeat=False\n",
    "\n",
    "\n",
    "        for j in range(n):\n",
    "             if i !=j and str[i]==str[j]:\n",
    "                #print(str[i])\n",
    "                repeat=True\n",
    "        if repeat==False:\n",
    "           return i\n",
    "    return None\n",
    "            "
   ]
  },
  {
   "cell_type": "code",
   "execution_count": 32,
   "metadata": {},
   "outputs": [
    {
     "data": {
      "text/plain": [
       "2"
      ]
     },
     "execution_count": 32,
     "metadata": {},
     "output_type": "execute_result"
    }
   ],
   "source": [
    "str=\"aabcd\"\n",
    "non_repeating_char(str)"
   ]
  },
  {
   "cell_type": "code",
   "execution_count": 33,
   "metadata": {},
   "outputs": [],
   "source": [
    "#Method 2 Using Hash Table - Optimal method\n",
    "#time comlexity is 0(n)\n",
    "#space comlexity is 0(1) beacuse  the disctiobary takes 26 small and 26 capital and integers 0-9 \n",
    "#which is 0(62) wich means constant space\n",
    "def non_repeating_char(str):\n",
    "    dict={}\n",
    "    n=len(str)\n",
    "    for i in range(n):\n",
    "        if str[i]  in dict:\n",
    "            dict[str[i]]+=1\n",
    "        else:\n",
    "            dict[str[i]]=1\n",
    "    for i in  range(n):\n",
    "        if dict[str[i]]==1:\n",
    "            return i\n",
    "    return None\n",
    "\n",
    "\n"
   ]
  },
  {
   "cell_type": "code",
   "execution_count": 34,
   "metadata": {},
   "outputs": [
    {
     "data": {
      "text/plain": [
       "3"
      ]
     },
     "execution_count": 34,
     "metadata": {},
     "output_type": "execute_result"
    }
   ],
   "source": [
    "non_repeating_char('AbcabcdA')"
   ]
  },
  {
   "cell_type": "code",
   "execution_count": null,
   "metadata": {},
   "outputs": [],
   "source": []
  },
  {
   "cell_type": "code",
   "execution_count": 35,
   "metadata": {},
   "outputs": [
    {
     "data": {
      "text/plain": [
       "'you are given string . write a function to check whther\\nthe string is pa;indrome or not'"
      ]
     },
     "execution_count": 35,
     "metadata": {},
     "output_type": "execute_result"
    }
   ],
   "source": [
    "\"\"\"you are given string . write a function to check whther\n",
    "the string is pa;indrome or not\"\"\"\n",
    "\n",
    "#Assumptions\n",
    "# I a single character plaindrom YES\n",
    "# assume non empty\n",
    "# output True or False\n",
    "# upper case , lower case trat differently"
   ]
  },
  {
   "cell_type": "code",
   "execution_count": null,
   "metadata": {},
   "outputs": [],
   "source": [
    "#method1\n",
    "#Time=0(n**2)( strings are immutable every time new string is formed by appending new character)\n",
    "#space=O(n) - space comlexity is O(n)\n"
   ]
  },
  {
   "cell_type": "code",
   "execution_count": 47,
   "metadata": {},
   "outputs": [],
   "source": [
    "def is_palindrome(str):\n",
    "    new_str=\"\"\n",
    "    for i in reversed(str):\n",
    "        new_str+=i\n",
    "    if str==new_str:\n",
    "        return True\n",
    "    return False  "
   ]
  },
  {
   "cell_type": "code",
   "execution_count": 48,
   "metadata": {},
   "outputs": [
    {
     "data": {
      "text/plain": [
       "False"
      ]
     },
     "execution_count": 48,
     "metadata": {},
     "output_type": "execute_result"
    }
   ],
   "source": [
    "is_palindrome('aab')"
   ]
  },
  {
   "cell_type": "code",
   "execution_count": 49,
   "metadata": {},
   "outputs": [],
   "source": [
    "#Methodn\n",
    "#T,S=O(n)\n",
    "def is_palindrome2(str):\n",
    "    new_array=[]\n",
    "    for i in reversed(str):\n",
    "        new_array.append(i)\n",
    "    if ''.join(new_array)==str:\n",
    "        return True\n",
    "\n",
    "    return False"
   ]
  },
  {
   "cell_type": "code",
   "execution_count": 50,
   "metadata": {},
   "outputs": [
    {
     "data": {
      "text/plain": [
       "True"
      ]
     },
     "execution_count": 50,
     "metadata": {},
     "output_type": "execute_result"
    }
   ],
   "source": [
    "is_palindrome2(\"aabaa\")"
   ]
  },
  {
   "cell_type": "code",
   "execution_count": 37,
   "metadata": {},
   "outputs": [],
   "source": [
    "#Spacw comlexity is O(1)\n",
    "#Time complecity is O(n)\n",
    "def palindrome(str):\n",
    "    n=len(str)\n",
    "    for i in range(n) :\n",
    "        if str[i]!=str[n-1-i]:\n",
    "            \n",
    "            return False\n",
    "    return True\n",
    "\n",
    "def ispalindrome3(str):\n",
    "    i=0\n",
    "    j=len(str)-1\n",
    "    while i < j :\n",
    "        if str[i] !=str[j]:\n",
    "            return False\n",
    "        i=i+1\n",
    "        j=j-1\n",
    "    return True\n",
    "        "
   ]
  },
  {
   "cell_type": "code",
   "execution_count": 46,
   "metadata": {},
   "outputs": [
    {
     "data": {
      "text/plain": [
       "True"
      ]
     },
     "execution_count": 46,
     "metadata": {},
     "output_type": "execute_result"
    }
   ],
   "source": [
    "palindrome(\"malayalam\")"
   ]
  },
  {
   "cell_type": "code",
   "execution_count": null,
   "metadata": {},
   "outputs": [],
   "source": []
  }
 ],
 "metadata": {
  "kernelspec": {
   "display_name": "Python 3",
   "language": "python",
   "name": "python3"
  },
  "language_info": {
   "codemirror_mode": {
    "name": "ipython",
    "version": 3
   },
   "file_extension": ".py",
   "mimetype": "text/x-python",
   "name": "python",
   "nbconvert_exporter": "python",
   "pygments_lexer": "ipython3",
   "version": "3.11.6"
  }
 },
 "nbformat": 4,
 "nbformat_minor": 2
}
